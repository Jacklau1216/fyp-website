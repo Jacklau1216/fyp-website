{
 "cells": [
  {
   "cell_type": "code",
   "execution_count": null,
   "metadata": {},
   "outputs": [],
   "source": [
    "from dna_gpt_detector.dna_gpt import DNAGPT\n",
    "\n",
    "detector = DNAGPT()\n",
    "text_to_detect = \"The Norman community spread across western France and on to the English Channel Islands and the east coast of England. The Kingdom of Normandy was founded in Normandy in 1078, and was ruled by a series of dukes since the end of the 11th century. The Normans were divided into various kingdoms, including the Kingdom of Brittany, the Kingdom of Normandy, the Kingdom of Meuse, and the Kingdom of Poitou. In 1180, William I, King of England, invaded Normandy and seized Normandy, but he was defeated and driven out by the Normans. This was the beginning of the English Civil War. In 1185, King Stephen died without a male heir, and his cousin, Henry II, was crowned king. Henry II became the regent for his half-brother, Richard II, King of England, against Henry's wife, Catherine of Aragon. Richard, however, died in 1189, and his younger brother, John I, was installed as king.\"\n",
    "\n",
    "result = detector.dna_gpt_detect(text_to_detect)\n",
    "print(result)"
   ]
  },
  {
   "cell_type": "code",
   "execution_count": null,
   "metadata": {},
   "outputs": [],
   "source": [
    "from ensemble_detector import EnsembleDectector\n",
    "\n",
    "detector = EnsembleDectector()\n",
    "text_to_detect = \"The Norman community spread across western France and on to the English Channel Islands and the east coast of England. The Kingdom of Normandy was founded in Normandy in 1078, and was ruled by a series of dukes since the end of the 11th century. The Normans were divided into various kingdoms, including the Kingdom of Brittany, the Kingdom of Normandy, the Kingdom of Meuse, and the Kingdom of Poitou. In 1180, William I, King of England, invaded Normandy and seized Normandy, but he was defeated and driven out by the Normans. This was the beginning of the English Civil War. In 1185, King Stephen died without a male heir, and his cousin, Henry II, was crowned king. Henry II became the regent for his half-brother, Richard II, King of England, against Henry's wife, Catherine of Aragon. Richard, however, died in 1189, and his younger brother, John I, was installed as king.\"\n",
    "\n",
    "result = detector.detect_text(text_to_detect)\n",
    "print(result)"
   ]
  },
  {
   "cell_type": "code",
   "execution_count": null,
   "metadata": {},
   "outputs": [],
   "source": []
  }
 ],
 "metadata": {
  "kernelspec": {
   "display_name": "Python 3 (ipykernel)",
   "language": "python",
   "name": "python3"
  },
  "language_info": {
   "codemirror_mode": {
    "name": "ipython",
    "version": 3
   },
   "file_extension": ".py",
   "mimetype": "text/x-python",
   "name": "python",
   "nbconvert_exporter": "python",
   "pygments_lexer": "ipython3",
   "version": "3.11.5"
  }
 },
 "nbformat": 4,
 "nbformat_minor": 2
}
